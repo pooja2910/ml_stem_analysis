{
 "cells": [
  {
   "cell_type": "markdown",
   "metadata": {},
   "source": [
    "# RedCarpetUp Incorporation ML Internship Assignment"
   ]
  },
  {
   "cell_type": "markdown",
   "metadata": {},
   "source": [
    "##1)Calculate % growth of funding between year 2008 & 2009"
   ]
  },
  {
   "cell_type": "code",
   "execution_count": 1,
   "metadata": {
    "collapsed": true
   },
   "outputs": [],
   "source": [
    "import pandas as pd\n",
    "import numpy as np"
   ]
  },
  {
   "cell_type": "code",
   "execution_count": 70,
   "metadata": {},
   "outputs": [
    {
     "name": "stdout",
     "output_type": "stream",
     "text": [
      "                      Unnamed: 5          Unnamed: 6\n",
      "Index Number  C1) Funding FY2008  C2) Funding FY2009\n",
      "PRG_0001                    5.24                7.19\n",
      "PRG_0002                      14                  14\n",
      "PRG_0003                       5                   5\n",
      "PRG_0004                    4.57               11.79\n",
      "PRG_0005                    1.63                2.74\n",
      "PRG_0006                       3                   3\n",
      "PRG_0007                     1.1                1.12\n",
      "PRG_0008                   96.02              162.43\n",
      "PRG_0009                   64.76               77.99\n",
      "PRG_0010                    54.6               58.84\n",
      "PRG_0012                    1.75                1.52\n",
      "PRG_0013                    5.09                4.68\n",
      "PRG_0014                   51.46               51.85\n",
      "PRG_0015                   37.28               40.86\n",
      "PRG_0016                     NaN                9.95\n",
      "PRG_0017                    5.57                5.15\n",
      "PRG_0018                   11.37               14.88\n",
      "PRG_0019                   47.87               85.99\n",
      "PRG_0020                   62.67              100.47\n",
      "PRG_0021                   55.05                 115\n",
      "PRG_0022                   29.48               29.09\n",
      "PRG_0023                    2.29                2.42\n",
      "PRG_0025                    2.71                4.22\n",
      "PRG_0026                   19.46               26.95\n",
      "PRG_0027                    2.32                2.71\n",
      "PRG_0028                   99.25              108.41\n",
      "PRG_0029                   41.66                42.6\n",
      "PRG_0030                   64.45               65.72\n",
      "PRG_0031                    1.08                   2\n",
      "...                          ...                 ...\n",
      "PRG_0293                   0.826               0.826\n",
      "PRG_0294                   1.245                2.53\n",
      "PRG_0295                     5.8               6.327\n",
      "PRG_0296                     2.8                 2.9\n",
      "PRG_0297                    6.36               2.976\n",
      "PRG_0298                0.510895            0.627349\n",
      "PRG_0299                    3.97                 5.6\n",
      "PRG_0300                     NaN                 0.9\n",
      "PRG_0301                  74.439             83.4526\n",
      "PRG_0302                   1.961               1.989\n",
      "PRG_0303                   1.114                1.13\n",
      "PRG_0306                   0.642               0.648\n",
      "PRG_0308                    13.2                14.1\n",
      "PRG_0310                       1               1.418\n",
      "PRG_0311                  0.4681             0.61983\n",
      "PRG_0312                 10.3309             14.6606\n",
      "PRG_0313                     NaN                 1.5\n",
      "PRG_0314                     3.5                 2.5\n",
      "PRG_0315                     3.8                 3.8\n",
      "PRG_0316                    0.17               0.272\n",
      "PRG_0317                   0.177               0.224\n",
      "PRG_0318                   0.366                0.46\n",
      "PRG_0319                   28.72               27.86\n",
      "PRG_0320                    92.4               61.22\n",
      "PRG_0321                   10.13                11.4\n",
      "PRG_0324                     9.9                 NaN\n",
      "PRG_0325                   0.476               0.486\n",
      "PRG_0326                     NaN                 NaN\n",
      "PRG_0327                     194                 341\n",
      "NaN                      2796.84             3354.39\n",
      "\n",
      "[254 rows x 2 columns]\n"
     ]
    }
   ],
   "source": [
    "columns_to_add = ['Unnamed: 5','Unnamed: 6']# As FY2008 and FY2009 are the required column\n",
    "data = pd.read_excel('stem.xls',na_values=[0],usecols=lambda x: x in columns_to_add)\n"
   ]
  },
  {
   "cell_type": "code",
   "execution_count": 34,
   "metadata": {},
   "outputs": [
    {
     "data": {
      "text/plain": [
       "Index(['Unnamed: 5', 'Unnamed: 6'], dtype='object')"
      ]
     },
     "execution_count": 34,
     "metadata": {},
     "output_type": "execute_result"
    }
   ],
   "source": [
    "data.columns#required columns"
   ]
  },
  {
   "cell_type": "code",
   "execution_count": 38,
   "metadata": {},
   "outputs": [
    {
     "data": {
      "text/plain": [
       "Unnamed: 5    36\n",
       "Unnamed: 6    19\n",
       "dtype: int64"
      ]
     },
     "execution_count": 38,
     "metadata": {},
     "output_type": "execute_result"
    }
   ],
   "source": [
    "data.isnull().sum()#checking number of null values present"
   ]
  },
  {
   "cell_type": "code",
   "execution_count": 39,
   "metadata": {
    "collapsed": true
   },
   "outputs": [],
   "source": [
    "data.fillna(0, inplace=True)# as the data contains alot of missing values filling all the mising values with 0"
   ]
  },
  {
   "cell_type": "code",
   "execution_count": 47,
   "metadata": {},
   "outputs": [],
   "source": [
    "# function to calculate the growth from the year 2008 to 2009\n",
    "def Growth(data):\n",
    "    tar_list=[]\n",
    "    for i in range(1,len(data)):\n",
    "        if(data['Unnamed: 5'][i]==0):\n",
    "            tar_list.append(100)\n",
    "        else:\n",
    "            tar_list.append(((data['Unnamed: 6'][i]- data['Unnamed: 5'][i])/data['Unnamed: 5'][i])*100)\n",
    "    return tar_list"
   ]
  },
  {
   "cell_type": "code",
   "execution_count": 51,
   "metadata": {},
   "outputs": [],
   "source": [
    "percent = Growth(data)\n",
    "percent.insert(0,'growth')"
   ]
  },
  {
   "cell_type": "code",
   "execution_count": 53,
   "metadata": {},
   "outputs": [],
   "source": [
    "data['percent'] = percent"
   ]
  },
  {
   "cell_type": "markdown",
   "metadata": {},
   "source": [
    "2) If funding is positive, tag it as 1, if funding is negative tag it as 0. This is the target variable."
   ]
  },
  {
   "cell_type": "code",
   "execution_count": 55,
   "metadata": {
    "collapsed": true
   },
   "outputs": [],
   "source": [
    "#function to put tag 1 if growth is positive\n",
    "def tag(data):\n",
    "    tar_list=[]\n",
    "    for i in range(1,len(data)):\n",
    "        if(data['percent'][i]>0):\n",
    "            tar_list.append(1)\n",
    "        else:\n",
    "            tar_list.append(0)\n",
    "    return tar_list"
   ]
  },
  {
   "cell_type": "code",
   "execution_count": 56,
   "metadata": {
    "collapsed": true
   },
   "outputs": [],
   "source": [
    "tag = tag(data)#calling function"
   ]
  },
  {
   "cell_type": "code",
   "execution_count": 58,
   "metadata": {},
   "outputs": [],
   "source": [
    "tag.insert(0,'Tag')#inserting colun name"
   ]
  },
  {
   "cell_type": "code",
   "execution_count": 60,
   "metadata": {},
   "outputs": [],
   "source": [
    "data['Tag'] = tag#creating one more attribute"
   ]
  },
  {
   "cell_type": "code",
   "execution_count": 72,
   "metadata": {},
   "outputs": [
    {
     "name": "stdout",
     "output_type": "stream",
     "text": [
      "                      Unnamed: 5          Unnamed: 6  percent  Tag\n",
      "Index Number  C1) Funding FY2008  C2) Funding FY2009   growth  Tag\n",
      "PRG_0001                    5.24                7.19  37.2137    1\n",
      "PRG_0002                      14                  14        0    0\n",
      "PRG_0003                       5                   5        0    0\n"
     ]
    }
   ],
   "source": [
    "data.to_csv('PercentGrowth.csv', sep=',')#saving the growth analysis in a csv file\n",
    "print(data[:4])# printing the growth analysis"
   ]
  },
  {
   "cell_type": "code",
   "execution_count": 74,
   "metadata": {},
   "outputs": [],
   "source": [
    "import plotly.plotly as py"
   ]
  },
  {
   "cell_type": "code",
   "execution_count": null,
   "metadata": {
    "collapsed": true
   },
   "outputs": [],
   "source": []
  }
 ],
 "metadata": {
  "kernelspec": {
   "display_name": "Python 3",
   "language": "python",
   "name": "python3"
  },
  "language_info": {
   "codemirror_mode": {
    "name": "ipython",
    "version": 3
   },
   "file_extension": ".py",
   "mimetype": "text/x-python",
   "name": "python",
   "nbconvert_exporter": "python",
   "pygments_lexer": "ipython3",
   "version": "3.6.3"
  }
 },
 "nbformat": 4,
 "nbformat_minor": 2
}
